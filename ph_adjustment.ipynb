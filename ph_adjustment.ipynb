{
 "cells": [
  {
   "cell_type": "code",
   "execution_count": 24,
   "metadata": {},
   "outputs": [],
   "source": [
    "import matplotlib as plt\n",
    "import numpy as np"
   ]
  },
  {
   "cell_type": "code",
   "execution_count": 25,
   "metadata": {},
   "outputs": [],
   "source": [
    "### data\n",
    "\n",
    "target_ph = 5.0\n",
    "pKa = 4.76\n",
    "Total_buffer_conc = 0.1 #M\n",
    "Volume = 1 #L\n",
    "Conjugateacid_name = \"Acetic acid (CH3COOH)\"\n",
    "Conjugatebase_name = \"Sodium acetate (CH3COONa)\"\n",
    "A_molarmass = 60.05 # Acetic acid (CH3COOH) g/mol\n",
    "HA_molarmass = 82.03 # Sodium Acetate (CH3COONa) g/mol\n"
   ]
  },
  {
   "cell_type": "code",
   "execution_count": 26,
   "metadata": {},
   "outputs": [],
   "source": [
    "\n",
    "def get_ratio(pKa,target_ph):\n",
    "    return 10**(target_ph-pKa)\n",
    "\n",
    "def get_ind_concentration(Total_buffer_conc,conjugate_ratio):\n",
    "    A_conc = Total_buffer_conc*(conjugate_ratio/(1+conjugate_ratio))\n",
    "    HA_conc = Total_buffer_conc - A_conc\n",
    "\n",
    "    return A_conc, HA_conc\n",
    "\n",
    "def get_moles(A_conc,HA_conc,Volume):\n",
    "    A_moles = A_conc*Volume\n",
    "    HA_moles = HA_conc*Volume\n",
    "    \n",
    "    return A_moles, HA_moles\n",
    "\n",
    "def convert_moles_to_mass(A_moles,HA_moles,A_molarmass,HA_molarmass):\n",
    "    A_mass = A_moles*A_molarmass\n",
    "    HA_mass = HA_moles*HA_molarmass\n",
    "\n",
    "    return A_mass, HA_mass\n"
   ]
  },
  {
   "cell_type": "code",
   "execution_count": 27,
   "metadata": {},
   "outputs": [
    {
     "name": "stdout",
     "output_type": "stream",
     "text": [
      "Mass of Acetic acid (CH3COOH) and Sodium acetate (CH3COONa) needed to achieve the target pH of 5.0 is:\n",
      "Acetic acid (CH3COOH): 3.811633726989163\n",
      "Sodium acetate (CH3COONa): 2.9962004225658445\n",
      "Dilute first the Acetic acid (CH3COOH) in a volume of 1, then add the Sodium acetate (CH3COONa)\n",
      "\n"
     ]
    }
   ],
   "source": [
    "\n",
    "get_ratio(pKa,target_ph)\n",
    "A_conc = get_ind_concentration(Total_buffer_conc,get_ratio(pKa,target_ph))[0]\n",
    "HA_conc = get_ind_concentration(Total_buffer_conc,get_ratio(pKa,target_ph))[1]\n",
    "\n",
    "A_moles = get_moles(A_conc,HA_conc,Volume)[0]\n",
    "HA_moles = get_moles(A_conc,HA_conc,Volume)[1]\n",
    "\n",
    "A_mass = convert_moles_to_mass(A_moles,HA_moles,A_molarmass,HA_molarmass)[0]\n",
    "HA_mass = convert_moles_to_mass(A_moles,HA_moles,A_molarmass,HA_molarmass)[1]\n",
    "\n",
    "print(f\"Mass of {Conjugateacid_name} and {Conjugatebase_name} needed to achieve the target pH of {target_ph} is:\\n{Conjugateacid_name}: {A_mass}\\n{Conjugatebase_name}: {HA_mass}\")\n",
    "print(f\"Dilute first the {Conjugateacid_name} in a volume of {Volume}, then add the {Conjugatebase_name}\\n\")\n"
   ]
  }
 ],
 "metadata": {
  "kernelspec": {
   "display_name": "base",
   "language": "python",
   "name": "python3"
  },
  "language_info": {
   "codemirror_mode": {
    "name": "ipython",
    "version": 3
   },
   "file_extension": ".py",
   "mimetype": "text/x-python",
   "name": "python",
   "nbconvert_exporter": "python",
   "pygments_lexer": "ipython3",
   "version": "3.10.12"
  }
 },
 "nbformat": 4,
 "nbformat_minor": 2
}
